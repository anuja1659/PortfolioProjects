{
 "cells": [
  {
   "cell_type": "code",
   "execution_count": 1,
   "id": "a74c7851",
   "metadata": {},
   "outputs": [],
   "source": [
    "# import libraries \n",
    "\n",
    "from bs4 import BeautifulSoup\n",
    "import requests\n",
    "import time\n",
    "import datetime\n",
    "\n",
    "import smtplib"
   ]
  },
  {
   "cell_type": "code",
   "execution_count": 25,
   "id": "273c7057",
   "metadata": {},
   "outputs": [
    {
     "name": "stdout",
     "output_type": "stream",
     "text": [
      "Data Analytics Data Engineering Funny Data Analyst Joke T-Shirt\n",
      "19\n",
      "                      \n",
      "                       .\n"
     ]
    }
   ],
   "source": [
    "# Connect to Website and pull in data\n",
    "\n",
    "URL = 'https://www.amazon.com/Data-Analytics-Engineering-Analyst-T-Shirt/dp/B08WD95TMV/ref=sr_1_2?crid=1OUL0MSE1CZUE&dib=eyJ2IjoiMSJ9.eg4ckSZVY_OtmLfVdJyh5Oqi66aidSPuUFy16K39rS8va9r-ezln_rxyCpIh0831DVc8r1T94YMx1ucDRqgI_P43APKpGZSn29LybpxEXvHMo9CmXSTdu6LfbXyU60pzQhajIs33yqXldHPgWARWlGYb4yYUaDGUCX1jyJEBwT533LIdgGgfUtxg4OFiJlMrRi1BaKvUMqAEf4syS9JPRziPO2sUNZEBIksN1lAhY64E7FfHW7bmYSTbxu20qFVoDziCTMQ52A6DA08LjNeIFmrTFL-Wp58gGjnGFwLdN0M.Id09-WSESguWumfVhpn4J-r4RvVSFdpkLoofn6dkHhw&dib_tag=se&keywords=data%2Banalyst%2Btshirt&qid=1716046499&sprefix=data%2Banalyst%2B%2Caps%2C135&sr=8-2'\n",
    "\n",
    "headers = {\"User-Agent\": \"Mozilla/5.0 (Macintosh; Intel Mac OS X 10_15_7) AppleWebKit/537.36 (KHTML, like Gecko) Chrome/125.0.0.0 Safari/537.36\", \"Accept-Encoding\": \"gzip, deflate, br, zstd\",\"Accept\": \"text/html,application/xhtml+xml,application/xml;q=0.9,image/avif,image/webp,image/apng,*/*;q=0.8,application/signed-exchange;v=b3;q=0.7\", \"DNT\":\"1\",\"Connection\":\"close\", \"Upgrade-Insecure-Requests\":\"1\"}\n",
    "\n",
    "page = requests.get(URL, headers=headers)\n",
    "\n",
    "soup1 = BeautifulSoup(page.content, \"html.parser\")\n",
    "\n",
    "soup2 = BeautifulSoup(soup1.prettify(), \"html.parser\")\n",
    "\n",
    "# Find the product title\n",
    "title = soup2.find(id='productTitle').get_text().strip()\n",
    "\n",
    "# Attempt to find the product price\n",
    "price = None\n",
    "\n",
    "# List of potential ids and classes for the price element\n",
    "price_selectors = [\n",
    "    {'id': 'priceblock_ourprice'},\n",
    "    {'id': 'priceblock_dealprice'},\n",
    "    {'id': 'priceblock_saleprice'},\n",
    "    {'class': 'a-price-whole'}\n",
    "]\n",
    "\n",
    "# Iterate through the selectors to find the price\n",
    "for selector in price_selectors:\n",
    "    if 'id' in selector:\n",
    "        price_element = soup2.find(id=selector['id'])\n",
    "    elif 'class' in selector:\n",
    "        price_element = soup2.find(class_=selector['class'])\n",
    "    \n",
    "    if price_element:\n",
    "        price = price_element.get_text().strip()\n",
    "        break\n",
    "\n",
    "if price is None:\n",
    "    price = \"Price not found\"\n",
    "\n",
    "print(title)\n",
    "print(price)"
   ]
  },
  {
   "cell_type": "code",
   "execution_count": 11,
   "id": "2f34e2a6",
   "metadata": {},
   "outputs": [
    {
     "name": "stdout",
     "output_type": "stream",
     "text": [
      "2024-05-18\n"
     ]
    }
   ],
   "source": [
    "# Create a Timestamp for your output to track when data was collected\n",
    "\n",
    "import datetime\n",
    "\n",
    "today = datetime.date.today()\n",
    "\n",
    "print(today)"
   ]
  },
  {
   "cell_type": "code",
   "execution_count": 14,
   "id": "42da72e1",
   "metadata": {},
   "outputs": [],
   "source": [
    "# Create CSV and write headers and data into the file\n",
    "\n",
    "import csv \n",
    "\n",
    "header = ['Title', 'Price', 'Date']\n",
    "data = [title, price, today]\n",
    "\n",
    "\n",
    "with open('AmazonWebScraperDataset.csv', 'w', newline='', encoding='UTF8') as f:\n",
    "    writer = csv.writer(f)\n",
    "    writer.writerow(header)\n",
    "    writer.writerow(data)"
   ]
  },
  {
   "cell_type": "code",
   "execution_count": 20,
   "id": "2f01abff",
   "metadata": {},
   "outputs": [
    {
     "name": "stdout",
     "output_type": "stream",
     "text": [
      "                                               Title  \\\n",
      "0  Data Analytics Data Engineering Funny Data Ana...   \n",
      "1  Data Analytics Data Engineering Funny Data Ana...   \n",
      "\n",
      "                                               Price        Date  \n",
      "0  \\n                      19\\n                  ...  2024-05-18  \n",
      "1  \\n                      19\\n                  ...  2024-05-18  \n"
     ]
    }
   ],
   "source": [
    "import pandas as pd\n",
    "\n",
    "df = pd.read_csv(r'/Users/anujanaik/AmazonWebScraperDataset.csv')\n",
    "\n",
    "print(df)"
   ]
  },
  {
   "cell_type": "code",
   "execution_count": 19,
   "id": "fb79f0ee",
   "metadata": {},
   "outputs": [],
   "source": [
    "#Now appending data to the csv\n",
    "\n",
    "with open('AmazonWebScraperDataset.csv', 'a+', newline='', encoding='UTF8') as f:\n",
    "    writer = csv.writer(f)\n",
    "    writer.writerow(data)"
   ]
  },
  {
   "cell_type": "code",
   "execution_count": 28,
   "id": "c1de5ce1",
   "metadata": {},
   "outputs": [],
   "source": [
    "def check_price():\n",
    "    URL = 'https://www.amazon.com/Data-Analytics-Engineering-Analyst-T-Shirt/dp/B08WD95TMV/ref=sr_1_2?crid=1OUL0MSE1CZUE&dib=eyJ2IjoiMSJ9.eg4ckSZVY_OtmLfVdJyh5Oqi66aidSPuUFy16K39rS8va9r-ezln_rxyCpIh0831DVc8r1T94YMx1ucDRqgI_P43APKpGZSn29LybpxEXvHMo9CmXSTdu6LfbXyU60pzQhajIs33yqXldHPgWARWlGYb4yYUaDGUCX1jyJEBwT533LIdgGgfUtxg4OFiJlMrRi1BaKvUMqAEf4syS9JPRziPO2sUNZEBIksN1lAhY64E7FfHW7bmYSTbxu20qFVoDziCTMQ52A6DA08LjNeIFmrTFL-Wp58gGjnGFwLdN0M.Id09-WSESguWumfVhpn4J-r4RvVSFdpkLoofn6dkHhw&dib_tag=se&keywords=data%2Banalyst%2Btshirt&qid=1716046499&sprefix=data%2Banalyst%2B%2Caps%2C135&sr=8-2'\n",
    "\n",
    "    headers = {\"User-Agent\": \"Mozilla/5.0 (Macintosh; Intel Mac OS X 10_15_7) AppleWebKit/537.36 (KHTML, like Gecko) Chrome/125.0.0.0 Safari/537.36\", \"Accept-Encoding\": \"gzip, deflate, br, zstd\",\"Accept\": \"text/html,application/xhtml+xml,application/xml;q=0.9,image/avif,image/webp,image/apng,*/*;q=0.8,application/signed-exchange;v=b3;q=0.7\", \"DNT\":\"1\",\"Connection\":\"close\", \"Upgrade-Insecure-Requests\":\"1\"}\n",
    "\n",
    "    page = requests.get(URL, headers=headers)\n",
    "\n",
    "    soup1 = BeautifulSoup(page.content, \"html.parser\")\n",
    "\n",
    "    soup2 = BeautifulSoup(soup1.prettify(), \"html.parser\")\n",
    "    \n",
    "    title = soup2.find(id='productTitle').get_text().strip()\n",
    "\n",
    "    # Find the product title\n",
    "    title = soup2.find(id='productTitle').get_text().strip()\n",
    "\n",
    "    # Attempt to find the product price\n",
    "    price = None\n",
    "\n",
    "    # List of potential ids and classes for the price element\n",
    "    price_selectors = [\n",
    "    {'id': 'priceblock_ourprice'},\n",
    "    {'id': 'priceblock_dealprice'},\n",
    "    {'id': 'priceblock_saleprice'},\n",
    "    {'class': 'a-price-whole'}]\n",
    "\n",
    "    # Iterate through the selectors to find the price\n",
    "    for selector in price_selectors:\n",
    "        if 'id' in selector:\n",
    "            price_element = soup2.find(id=selector['id'])\n",
    "        elif 'class' in selector:\n",
    "            price_element = soup2.find(class_=selector['class'])\n",
    "    \n",
    "        if price_element:\n",
    "            price = price_element.get_text().strip()\n",
    "            break\n",
    "\n",
    "    if price is None:\n",
    "        price = \"Price not found\"\n",
    "    \n",
    "    import datetime\n",
    "\n",
    "    today = datetime.date.today()\n",
    "    \n",
    "    import csv \n",
    "\n",
    "    header = ['Title', 'Price', 'Date']\n",
    "    data = [title, price, today]\n",
    "\n",
    "\n",
    "    with open('AmazonWebScraperDataset.csv', 'w', newline='', encoding='UTF8') as f:\n",
    "        writer = csv.writer(f)\n",
    "        writer.writerow(header)\n",
    "        writer.writerow(data)        \n"
   ]
  },
  {
   "cell_type": "code",
   "execution_count": null,
   "id": "302d751c",
   "metadata": {},
   "outputs": [],
   "source": [
    "# Runs check_price after a set time and inputs data into your CSV\n",
    "\n",
    "while(True):\n",
    "    check_price()\n",
    "    time.sleep(5)"
   ]
  },
  {
   "cell_type": "code",
   "execution_count": 30,
   "id": "04084ffb",
   "metadata": {},
   "outputs": [
    {
     "name": "stdout",
     "output_type": "stream",
     "text": [
      "                                               Title  \\\n",
      "0  Data Analytics Data Engineering Funny Data Ana...   \n",
      "\n",
      "                                               Price        Date  \n",
      "0  19\\n                      \\n                  ...  2024-05-18  \n"
     ]
    }
   ],
   "source": [
    "import pandas as pd\n",
    "\n",
    "df = pd.read_csv(r'/Users/anujanaik/AmazonWebScraperDataset.csv')\n",
    "\n",
    "print(df)"
   ]
  },
  {
   "cell_type": "code",
   "execution_count": 33,
   "id": "0f7a7ecc",
   "metadata": {},
   "outputs": [],
   "source": []
  },
  {
   "cell_type": "code",
   "execution_count": null,
   "id": "154861ac",
   "metadata": {},
   "outputs": [],
   "source": []
  }
 ],
 "metadata": {
  "kernelspec": {
   "display_name": "Python 3 (ipykernel)",
   "language": "python",
   "name": "python3"
  },
  "language_info": {
   "codemirror_mode": {
    "name": "ipython",
    "version": 3
   },
   "file_extension": ".py",
   "mimetype": "text/x-python",
   "name": "python",
   "nbconvert_exporter": "python",
   "pygments_lexer": "ipython3",
   "version": "3.11.5"
  }
 },
 "nbformat": 4,
 "nbformat_minor": 5
}
